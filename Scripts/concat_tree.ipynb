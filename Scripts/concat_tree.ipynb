{
 "cells": [
  {
   "cell_type": "code",
   "execution_count": 11,
   "metadata": {},
   "outputs": [],
   "source": [
    "from ete3 import Tree\n",
    "\n",
    "t1 = Tree(\"C:/Users/67477/OneDrive/ARGs_genes/new/Phylogenetic/PF00144_msa.contree\",format=1)\n",
    "t2 = Tree(\"C:/Users/67477/OneDrive/ARGs_genes/new/Phylogenetic/PF00905_msa.contree\",format=1)\n",
    "t3 = Tree(\"C:/Users/67477/OneDrive/ARGs_genes/new/Phylogenetic/PF13354_msa.contree\",format=1)\n",
    "\n",
    "merged_tree = t1\n",
    "merged_tree.add_child(t2)\n",
    "merged_tree.add_child(t3)\n",
    "\n",
    "merged_tree.write(outfile=\"C:/Users/67477/OneDrive/ARGs_genes/merged_tree.nw\")\n",
    "\n"
   ]
  }
 ],
 "metadata": {
  "kernelspec": {
   "display_name": "ete3",
   "language": "python",
   "name": "python3"
  },
  "language_info": {
   "codemirror_mode": {
    "name": "ipython",
    "version": 3
   },
   "file_extension": ".py",
   "mimetype": "text/x-python",
   "name": "python",
   "nbconvert_exporter": "python",
   "pygments_lexer": "ipython3",
   "version": "3.11.3"
  },
  "orig_nbformat": 4
 },
 "nbformat": 4,
 "nbformat_minor": 2
}
