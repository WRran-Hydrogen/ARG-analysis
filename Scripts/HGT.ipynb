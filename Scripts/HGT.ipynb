{
 "cells": [
  {
   "cell_type": "code",
   "execution_count": null,
   "metadata": {},
   "outputs": [],
   "source": [
    "from ete3 import Tree\n",
    "\n",
    "# 假设您已经有了一个树对象\n",
    "t = Tree(\"C:/Users/67477/OneDrive/ARGs_genes/new/Phylogenetic/PF13354.treefile\")\n",
    "\n",
    "# 获取所有叶子节点名称\n",
    "leaf_names = [leaf.name for leaf in t.get_leaves()]\n",
    "\n",
    "# 筛选出名称带有\"IMG\"和不带有\"IMG\"的叶子节点\n",
    "img_leaves = [name for name in leaf_names if \"IMG\" in name]\n",
    "non_img_leaves = [name for name in leaf_names if \"IMG\" not in name]\n",
    "\n",
    "# 计算两两叶子节点之间的遗传距离\n",
    "distances = {}\n",
    "for name1 in img_leaves:\n",
    "    for name2 in non_img_leaves:\n",
    "        distance = t.get_distance(name1, name2)\n",
    "        distances[(name1, name2)] = distance\n",
    "\n",
    "# 打印结果\n",
    "for pair, distance in distances.items():\n",
    "    print(f\"Distance between {pair[0]} and {pair[1]}: {distance}\")"
   ]
  },
  {
   "cell_type": "code",
   "execution_count": 3,
   "metadata": {},
   "outputs": [],
   "source": [
    "from ete3 import Tree\n",
    "\n",
    "# 创建一个示例树\n",
    "tree1 = Tree(\"C:/Users/67477/OneDrive/ARGs_genes/new/Phylogenetic/PF13354.treefile\")\n",
    "tree2 = Tree(\"C:/Users/67477/OneDrive/ARGs_genes/new/Phylogenetic/PF00905.treefile\")\n",
    "tree3 = Tree(\"C:/Users/67477/OneDrive/ARGs_genes/new/Phylogenetic/PF00144.treefile\")\n",
    "# 获取单系\n",
    "Node_custom_PF13354 = [\"IMGVR_UViG_3300049823_000436|3300049823|Ga0501044_0002150_2\",\"IMGVR_UViG_3300034116_001560|3300034116|Ga0335068_0001636_16\"]\n",
    "Node_custom_PF00144 = [\"gi|914076650|ref|WP_050513494.1|\",\"gi|510921885|ref|WP_016242684.1|\"]\n",
    "Node_custom_PF00905 = [\"gi|32345862|gb|AAM97225.1|\",\"DQ519088.1.gene1.p01\"]\n",
    "\n",
    "clade = tree2.get_common_ancestor(Node_custom_PF00905)\n",
    "\n",
    "# 分离单系树\n",
    "detached_clade = clade.detach()\n",
    "\n",
    "# 获取余下树中叶子节点名称包含“IMG”的所有叶子节点名称\n",
    "img_leaves = [leaf.name for leaf in detached_clade.iter_leaves() if \"IMG\" in leaf.name]\n",
    "\n",
    "# 导出为一个列表文件\n",
    "with open(\"PF00905_HGT.txt\", \"w\") as f:\n",
    "    for leaf in img_leaves:\n",
    "        f.write(leaf + \"\\n\")"
   ]
  }
 ],
 "metadata": {
  "kernelspec": {
   "display_name": "ete3",
   "language": "python",
   "name": "python3"
  },
  "language_info": {
   "codemirror_mode": {
    "name": "ipython",
    "version": 3
   },
   "file_extension": ".py",
   "mimetype": "text/x-python",
   "name": "python",
   "nbconvert_exporter": "python",
   "pygments_lexer": "ipython3",
   "version": "3.11.2"
  },
  "orig_nbformat": 4
 },
 "nbformat": 4,
 "nbformat_minor": 2
}
