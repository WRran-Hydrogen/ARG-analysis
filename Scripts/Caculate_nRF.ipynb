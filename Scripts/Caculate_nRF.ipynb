{
 "cells": [
  {
   "cell_type": "code",
   "execution_count": 29,
   "metadata": {},
   "outputs": [
    {
     "name": "stdout",
     "output_type": "stream",
     "text": [
      "Similarity for habitat Soil: 0.0\n",
      "Similarity for habitat Unclassfied: 0.0\n",
      "Similarity for habitat Other enviroment: 0.0\n",
      "Similarity for habitat Digestive: 0.0\n",
      "Similarity for habitat Wastewater: 0.0\n",
      "Similarity for habitat Marine: 0.0\n",
      "Similarity for habitat Freshwater: 0.0\n",
      "Similarity for habitat Other engineered: 0.0\n",
      "Similarity for habitat Plants: 0.0\n",
      "Similarity for habitat Solid: 0.0\n",
      "Similarity for habitat Other Host-associated: 0.33333333333333337\n",
      "Similarity for habitat Microbial: 0.0\n",
      "Similarity for habitat Bioreactor: 1.0\n"
     ]
    }
   ],
   "source": [
    "import pandas as pd\n",
    "from ete3 import Tree\n",
    "\n",
    "\n",
    "# 读取Excel文件\n",
    "df = pd.read_excel(\"C:/Users/67477/OneDrive/ARGs_genes/test/Co-evolution/coevolution.xlsx\",sheet_name = \"PF00144_Integrase\")\n",
    "\n",
    "# 读取newick树文件\n",
    "tree1 = Tree(\"C:/Users/67477/OneDrive/ARGs_genes/test/Co-evolution/iqtree/PF00144.msa.contree\")\n",
    "tree2 = Tree(\"C:/Users/67477/OneDrive/ARGs_genes/test/Co-evolution/iqtree/Integrase.msa.contree\")\n",
    "\n",
    "# 获取所有生境\n",
    "habitats = df['Habitat'].unique()\n",
    "\n",
    "# 计算每个生境的treeko值\n",
    "for habitat in habitats:\n",
    "    # 获取当前生境的节点ID\n",
    "    node_ids = df.loc[df['Habitat'] == habitat, 'PF00144_Integrase']\n",
    "    \n",
    "    # 提取子集树\n",
    "    subtree1 = tree1.copy('newick')\n",
    "    subtree2 = tree2.copy('newick')\n",
    "    subtree1.prune(node_ids)\n",
    "    subtree2.prune(node_ids)\n",
    "    \n",
    "    # 计算treeko值\n",
    "    rf, max_rf, common_attrs, names, edges_t1, edges_t2, discarded_edges_t1 = subtree1.robinson_foulds(subtree2)\n",
    "    similarity = 1- rf/max_rf\n",
    "    # 输出结果\n",
    "    #print(f'Robinson-Foulds distance for habitat {habitat}: {rf}')\n",
    "    #print(f'Robinson-Foulds distance for habitat {habitat}: {max_rf}')    \n",
    "    print(f'Similarity for habitat {habitat}: {similarity}')\n"
   ]
  }
 ],
 "metadata": {
  "kernelspec": {
   "display_name": "ete3",
   "language": "python",
   "name": "python3"
  },
  "language_info": {
   "codemirror_mode": {
    "name": "ipython",
    "version": 3
   },
   "file_extension": ".py",
   "mimetype": "text/x-python",
   "name": "python",
   "nbconvert_exporter": "python",
   "pygments_lexer": "ipython3",
   "version": "3.11.3"
  },
  "orig_nbformat": 4
 },
 "nbformat": 4,
 "nbformat_minor": 2
}
