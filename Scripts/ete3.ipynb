{
 "cells": [
  {
   "cell_type": "code",
   "execution_count": null,
   "metadata": {},
   "outputs": [],
   "source": [
    "from ete3 import Tree\n",
    "\n",
    "tree = Tree('((IMG_1,BAC_1)A,((IMG_7,BCA_7),BCC_8)X,(IMG_2,(ABC_2,(IMG_3,BCA_3)C)D)E)F;', format=1)\n",
    "\n",
    "for node in tree:\n",
    "    if node.is_leaf():\n",
    "        parent = node.up\n",
    "        leaves = parent.get_leaves()\n",
    "        if any('IMG' in leaf.name for leaf in leaves) and any('BCA' in leaf.name for leaf in leaves):\n",
    "            print(node.get_ascii(show_internal=True))"
   ]
  },
  {
   "cell_type": "code",
   "execution_count": null,
   "metadata": {},
   "outputs": [],
   "source": [
    "from ete3 import Tree\n",
    "\n",
    "tree = Tree('((IMG_1,BAC_1)A,((IMG_7,BCA_7),BCC_8)X,(IMG_2,(ABC_2,(IMG_3,BCA_3)C)D)E)F;', format=1)\n",
    "\n",
    "seen_parents = set()\n",
    "for leaf in tree:\n",
    "    if leaf.is_leaf():\n",
    "        parent = leaf.up\n",
    "        while parent and not parent.is_leaf():\n",
    "            if parent not in seen_parents:\n",
    "                leaves = parent.get_leaves()\n",
    "                if any('IMG' in leaf.name for leaf in leaves) and any('BCA' in leaf.name for leaf in leaves):\n",
    "                    print(parent.get_ascii(show_internal=True))\n",
    "                    seen_parents.add(parent)\n",
    "                    break\n",
    "            break"
   ]
  },
  {
   "cell_type": "code",
   "execution_count": null,
   "metadata": {},
   "outputs": [],
   "source": [
    "from ete3 import Tree\n",
    "\n",
    "def find_parent(tree, node):\n",
    "    while node.up:\n",
    "        node = node.up\n",
    "        children = node.get_children()\n",
    "        if any(\"IMG\" in child.name for child in children) and any(\"BCC\" in child.name for child in children):\n",
    "            return node\n",
    "    return None\n",
    "\n",
    "tree = Tree('((IMG_1,BAC_1),((IMG_7,IMG_4),BCC_8),(IMG_2,(ABC_2,(IMG_3,BCA_3))));', format=1)\n",
    "for leaf in tree.iter_leaves():\n",
    "    parent = find_parent(tree, leaf)\n",
    "    if parent:\n",
    "        print(f\"Leaf: {leaf.name}, Parent: {parent.name}\")\n",
    "\n"
   ]
  },
  {
   "cell_type": "code",
   "execution_count": 22,
   "metadata": {},
   "outputs": [],
   "source": [
    "from ete3 import Tree\n",
    "\n",
    "# 创建一个示例树\n",
    "tree1 = Tree(\"C:/Users/67477/OneDrive/ARGs_genes/new/Phylogenetic/PF13354.treefile\")\n",
    "tree2 = Tree(\"C:/Users/67477/OneDrive/ARGs_genes/new/Phylogenetic/PF00905.treefile\")\n",
    "tree3 = Tree(\"C:/Users/67477/OneDrive/ARGs_genes/new/Phylogenetic/PF00144.treefile\")\n",
    "# 获取单系\n",
    "Node_custom = [\"IMGVR_UViG_3300049823_000436|3300049823|Ga0501044_0002150_2\",\"IMGVR_UViG_3300034116_001560|3300034116|Ga0335068_0001636_16\"]\n",
    "clade = tree1.get_common_ancestor(Node_custom)\n",
    "\n",
    "# 分离单系树\n",
    "detached_clade = clade.detach()\n",
    "\n",
    "# 获取余下树中叶子节点名称包含“IMG”的所有叶子节点名称\n",
    "img_leaves = [leaf.name for leaf in tree1.iter_leaves() if \"IMG\" in leaf.name]\n",
    "\n",
    "# 导出为一个列表文件\n",
    "with open(\"img_leaves.txt\", \"w\") as f:\n",
    "    for leaf in img_leaves:\n",
    "        f.write(leaf + \"\\n\")"
   ]
  },
  {
   "cell_type": "code",
   "execution_count": null,
   "metadata": {},
   "outputs": [],
   "source": [
    "from ete3 import Tree\n",
    "\n",
    "t = Tree(\"C:/Users/67477/OneDrive/ARGs_genes/new/Phylogenetic/PF13354.treefile\")\n",
    "leaves = t.get_leaves()\n",
    "filtered_leaves = [leaf for leaf in leaves if \"IMG\" not in leaf.name]\n",
    "for leaf in filtered_leaves:\n",
    "    common_ancestor = leaf.get_common_ancestor()\n",
    "subtree = t.get_common_ancestor(filtered_leaves)\n",
    "\n",
    "# 删除不需要的节点\n",
    "for leaf in subtree.get_leaves():\n",
    "    if leaf not in [filtered_leaves]:\n",
    "        leaf.detach()\n",
    "subtree.write(outfile=\"C:/Users/67477/OneDrive/ARGs_genes/new/Phylogenetic/PF13354_clade.newick\")"
   ]
  },
  {
   "cell_type": "code",
   "execution_count": null,
   "metadata": {},
   "outputs": [],
   "source": [
    "from ete3 import Tree\n",
    "\n",
    "t = Tree(\"C:/Users/67477/OneDrive/ARGs_genes/new/Phylogenetic/PF13354.treefile\")\n",
    "img_leaves = [leaf for leaf in t if \"IMG\" in leaf.name]\n",
    "non_img_leaves = [leaf for leaf in t if \"IMG\" not in leaf.name]\n",
    "\n",
    "for leaf in img_leaves:\n",
    "    common_ancestor = leaf.get_common_ancestor(non_img_leaves)\n",
    "    if common_ancestor:\n",
    "        IMG_name = leaf.name"
   ]
  },
  {
   "cell_type": "code",
   "execution_count": null,
   "metadata": {},
   "outputs": [],
   "source": [
    "from ete3 import Tree\n",
    "\n",
    "t = Tree(\"C:/Users/67477/OneDrive/ARGs_genes/new/Phylogenetic/PF13354.treefile\")\n",
    "img_leaves = [leaf for leaf in t if \"IMG\" in leaf.name]\n",
    "non_img_leaves = [leaf for leaf in t if \"IMG\" not in leaf.name]\n"
   ]
  },
  {
   "cell_type": "code",
   "execution_count": null,
   "metadata": {},
   "outputs": [],
   "source": [
    "from ete3 import Tree\n",
    "\n",
    "t = Tree(\"C:/Users/67477/Downloads/11.txt\")\n",
    "leaves = t.get_leaves()\n",
    "\n",
    "last_non_img_leaf = None\n",
    "last_img_leaf = None\n",
    "next_img_leaf = None\n",
    "\n",
    "for leaf in leaves:\n",
    "    if \"IMG\" not in leaf.name:\n",
    "        last_non_img_leaf = leaf\n",
    "        if next_img_leaf is None:\n",
    "            next_img_leaf = False\n",
    "    elif next_img_leaf is False:\n",
    "        if leaf.get_common_ancestor(last_non_img_leaf) != last_non_img_leaf:\n",
    "            next_img_leaf = leaf\n",
    "    if \"IMG\" in leaf.name:\n",
    "        last_img_leaf = leaf\n",
    "\n",
    "if last_non_img_leaf and last_img_leaf and next_img_leaf:\n",
    "    common_ancestor = next_img_leaf.get_common_ancestor(last_img_leaf)\n",
    "    pruned_tree = common_ancestor.detach()\n",
    "    print(f\"Pruned tree: {pruned_tree.write()}\")\n",
    "    print(f\"Remaining tree: {t.write()}\")\n",
    "else:\n",
    "    print(\"Could not find the required leaves to prune the tree.\")"
   ]
  }
 ],
 "metadata": {
  "kernelspec": {
   "display_name": "ete3",
   "language": "python",
   "name": "python3"
  },
  "language_info": {
   "codemirror_mode": {
    "name": "ipython",
    "version": 3
   },
   "file_extension": ".py",
   "mimetype": "text/x-python",
   "name": "python",
   "nbconvert_exporter": "python",
   "pygments_lexer": "ipython3",
   "version": "3.11.2"
  },
  "orig_nbformat": 4
 },
 "nbformat": 4,
 "nbformat_minor": 2
}
