{
 "cells": [
  {
   "cell_type": "code",
   "execution_count": 2,
   "metadata": {},
   "outputs": [],
   "source": [
    "from ete3 import Tree\n",
    "\n",
    "# 读取树文件\n",
    "t = Tree(\"C:/Users/67477/OneDrive/ARGs_genes/test/Co-evolution/PF00589.trimal.contree\")\n",
    "\n",
    "# 获取所有叶子节点的名称\n",
    "leaf_names = [leaf.name for leaf in t]\n",
    "\n",
    "# 找到重复的叶子节点名称\n",
    "duplicates = set([name for name in leaf_names if leaf_names.count(name) > 1])\n",
    "\n",
    "# 删除重复的叶子节点\n",
    "for dup in duplicates:\n",
    "    t.prune([leaf for leaf in t if leaf.name != dup])\n",
    "\n",
    "# 将结果保存到新文件中\n",
    "t.write(outfile=\"C:/Users/67477/OneDrive/ARGs_genes/test/Co-evolution/mytree_pruned.nw\")\n"
   ]
  }
 ],
 "metadata": {
  "kernelspec": {
   "display_name": "ete3",
   "language": "python",
   "name": "python3"
  },
  "language_info": {
   "codemirror_mode": {
    "name": "ipython",
    "version": 3
   },
   "file_extension": ".py",
   "mimetype": "text/x-python",
   "name": "python",
   "nbconvert_exporter": "python",
   "pygments_lexer": "ipython3",
   "version": "3.11.3"
  },
  "orig_nbformat": 4
 },
 "nbformat": 4,
 "nbformat_minor": 2
}
